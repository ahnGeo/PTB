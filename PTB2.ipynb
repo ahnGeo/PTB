{
 "metadata": {
  "language_info": {
   "codemirror_mode": {
    "name": "ipython",
    "version": 3
   },
   "file_extension": ".py",
   "mimetype": "text/x-python",
   "name": "python",
   "nbconvert_exporter": "python",
   "pygments_lexer": "ipython3",
   "version": "3.8.8"
  },
  "orig_nbformat": 4,
  "kernelspec": {
   "name": "python3",
   "display_name": "Python 3.8.8 64-bit ('base': conda)"
  },
  "interpreter": {
   "hash": "89853503af3ba1e421b76f8b3e1a0aedbee0d2f4bfdac27b6fae94a1c3074b0d"
  }
 },
 "nbformat": 4,
 "nbformat_minor": 2,
 "cells": [
  {
   "cell_type": "code",
   "execution_count": 15,
   "metadata": {},
   "outputs": [
    {
     "output_type": "stream",
     "name": "stdout",
     "text": [
      "58 105 3\n"
     ]
    }
   ],
   "source": [
    "import cv2\n",
    "\n",
    "#핑크 하이라이트 두 개만 크롭\n",
    "img_crop = cv2.imread('0002.png')\n",
    "h, w, c = img_crop.shape\n",
    "\n",
    "print(h, w, c)\n",
    "\n",
    "b_crop, g_crop, r_crop = cv2.split(img_crop)\n",
    "\n",
    "cv2.imshow('R', r_crop)\n",
    "cv2.imshow('G', g_crop)\n",
    "cv2.imshow('B', b_crop)\n",
    "cv2.waitKey(0)\n",
    "cv2.destroyAllWindows()"
   ]
  },
  {
   "cell_type": "code",
   "execution_count": 12,
   "metadata": {},
   "outputs": [
    {
     "output_type": "stream",
     "name": "stdout",
     "text": [
      "58 105\n"
     ]
    }
   ],
   "source": [
    "#원본 크롭 이미지 흑백, 이진화\n",
    "\n",
    "#트랙바로 임계값 확인\n",
    "src = cv2.imread('0002.png', cv2.IMREAD_GRAYSCALE)\n",
    "h, w= src.shape\n",
    "print(h, w) #empty image?\n",
    "src = cv2.resize(src, None, fx=2, fy=2)\n",
    "\n",
    "def onChange(val) :\n",
    "    _, dst = cv2.threshold(src, val, 255, cv2.THRESH_BINARY)\n",
    "    cv2.imshow('Window', dst)\n",
    "\n",
    "cv2.namedWindow(\"Window\")\n",
    "cv2.imshow('Window', src)\n",
    "cv2.createTrackbar('level', 'Window', 0, 255, onChange)\n",
    "\n",
    "cv2.waitKey(0)\n",
    "cv2.destroyAllWindows()"
   ]
  },
  {
   "cell_type": "code",
   "execution_count": 3,
   "metadata": {},
   "outputs": [],
   "source": [
    "crop_gray = cv2.cvtColor(img_crop, cv2.COLOR_RGB2GRAY)\n",
    "ret, binary = cv2.threshold(crop_gray, 188, 255, cv2.THRESH_BINARY_INV)\n",
    "binary = cv2.bitwise_not(binary)\n",
    "\n",
    "cv2.imshow('crop_binary', binary)\n",
    "cv2.waitKey(0)\n",
    "cv2.destroyAllWindows()"
   ]
  },
  {
   "cell_type": "code",
   "execution_count": 11,
   "metadata": {},
   "outputs": [
    {
     "output_type": "execute_result",
     "data": {
      "text/plain": [
       "True"
      ]
     },
     "metadata": {},
     "execution_count": 11
    }
   ],
   "source": [
    "cv2.imwrite('0001_result.jpg', img_binary)"
   ]
  },
  {
   "cell_type": "code",
   "execution_count": 35,
   "metadata": {},
   "outputs": [],
   "source": [
    "img = cv2.imread('0001.jpg')\n",
    "\n",
    "img_gray = cv2.cvtColor(img, cv2.COLOR_RGB2GRAY)\n",
    "ret, img_binary = cv2.threshold(img_gray, 188, 255, cv2.THRESH_BINARY_INV)\n",
    "img_pink_binary = cv2.bitwise_not(img_binary)\n",
    "\n",
    "cv2.imshow('img_pink_binary', img_pink_binary)\n",
    "cv2.waitKey(0)\n",
    "cv2.destroyAllWindows()\n",
    "\n",
    "#핑크펜만 블라인드 처리 & 흑백 이미지"
   ]
  },
  {
   "cell_type": "code",
   "execution_count": 24,
   "metadata": {},
   "outputs": [],
   "source": [
    "img = cv2.imread('0001.jpg')\n",
    "\n",
    "b_img, g_img, r_img = cv2.split(img)\n",
    "\n",
    "cv2.imshow('R', r_img)\n",
    "cv2.imshow('G', g_img)\n",
    "cv2.imshow('B', b_img)\n",
    "cv2.waitKey(0)\n",
    "cv2.destroyAllWindows()"
   ]
  },
  {
   "cell_type": "code",
   "execution_count": 17,
   "metadata": {},
   "outputs": [],
   "source": [
    "#원본이미지 흑백, 이진화\n",
    "\n",
    "#트랙바로 임계값 확인\n",
    "src = b_img\n",
    "src = cv2.resize(src, None, fx=1, fy=1)\n",
    "\n",
    "def onChange(val) :\n",
    "    _, dst = cv2.threshold(src, val, 255, cv2.THRESH_BINARY)\n",
    "    cv2.imshow('Window', dst)\n",
    "\n",
    "cv2.namedWindow(\"Window\")\n",
    "cv2.imshow('Window', src)\n",
    "cv2.createTrackbar('level', 'Window', 0, 255, onChange)\n",
    "\n",
    "cv2.waitKey(0)\n",
    "cv2.destroyAllWindows()"
   ]
  },
  {
   "cell_type": "code",
   "execution_count": 19,
   "metadata": {},
   "outputs": [],
   "source": [
    "ret, img_binary = cv2.threshold(b_img, 176, 255, cv2.THRESH_BINARY_INV)\r\n",
    "img_yellow_binary = cv2.bitwise_not(img_binary)\r\n",
    "\r\n",
    "cv2.imshow('img_yellow_binary', img_yellow_binary)\r\n",
    "cv2.waitKey(0)\r\n",
    "cv2.destroyAllWindows()\r\n",
    "\r\n",
    "#핑크펜만 블라인드 처리 & 흑백 이미지"
   ]
  },
  {
   "cell_type": "code",
   "execution_count": 39,
   "metadata": {
    "tags": []
   },
   "outputs": [],
   "source": [
    "import numpy as np\n",
    "\n",
    "h, w, c = img.shape\n",
    "src = img\n",
    "\n",
    "#핑크 지우기를 원하면 \n",
    "#img_pink_binary와 원본 img를 비교해서 (0, 0, 0) 처리\n",
    "for y in range(220, 620) :  #첫번째 문단\n",
    "    for x in range(w) :\n",
    "        if img_pink_binary[y, x] == 0 : #numpy array 비교 np.all\n",
    "            src.itemset(y, x, 0, 0)\n",
    "            src.itemset(y, x, 1, 0)\n",
    "            src.itemset(y, x, 2, 0)\n",
    "\n",
    "for y in range(960, 1420) :  #두번째 문단\n",
    "    for x in range(w) : \n",
    "        if img_pink_binary[y, x] == 0 : #numpy array 비교 np.all\n",
    "            src.itemset(y, x, 0, 0)\n",
    "            src.itemset(y, x, 1, 0)\n",
    "            src.itemset(y, x, 2, 0)\n",
    "\n",
    "#컬러 이미지에 흑색 블락 처리\n",
    "cv2.imshow('img_pink_result', src)\n",
    "cv2.waitKey(0)\n",
    "cv2.destroyAllWindows()"
   ]
  },
  {
   "cell_type": "code",
   "execution_count": 41,
   "metadata": {},
   "outputs": [
    {
     "output_type": "execute_result",
     "data": {
      "text/plain": [
       "True"
      ]
     },
     "metadata": {},
     "execution_count": 41
    }
   ],
   "source": [
    "cv2.imwrite('0001_result.jpg', src)"
   ]
  },
  {
   "cell_type": "code",
   "execution_count": null,
   "metadata": {},
   "outputs": [],
   "source": []
  }
 ]
}