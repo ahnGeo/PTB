{
 "cells": [
  {
   "cell_type": "code",
   "execution_count": 1,
   "id": "c58dbc62",
   "metadata": {},
   "outputs": [],
   "source": [
    "# import numpy as np\n",
    "# from PIL import Image\n",
    "\n",
    "# im = Image.open('0001.jpg')\n",
    "# data = np.array(im)\n",
    "\n",
    "# r1, g1, b1 = 246, 127, 201 # Original value\n",
    "# r2, g2, b2 = 0, 0, 0 # Value that we want to replace it with\n",
    "\n",
    "# red, green, blue = data[:,:,0], data[:,:,1], data[:,:,2]\n",
    "# mask = (red == r1) & (green == g1) & (blue == b1)\n",
    "# data[:,:,:3][mask] = [r2, g2, b2]\n",
    "\n",
    "# im = Image.fromarray(data)\n",
    "# im.save('0001_modified.png')"
   ]
  },
  {
   "cell_type": "code",
   "execution_count": 1,
   "id": "4a8b1fb5",
   "metadata": {},
   "outputs": [
    {
     "name": "stdout",
     "output_type": "stream",
     "text": [
      "[[[139 123 246]]]\n"
     ]
    }
   ],
   "source": [
    "import cv2\n",
    "import numpy as np\n",
    "pink = np.uint8([[[246, 127, 201]]])\n",
    "hsv_pink = cv2.cvtColor(pink,cv2.COLOR_BGR2HSV)\n",
    "print(hsv_pink)"
   ]
  },
  {
   "cell_type": "code",
   "execution_count": 22,
   "id": "11f59408",
   "metadata": {},
   "outputs": [
    {
     "name": "stdout",
     "output_type": "stream",
     "text": [
      "1536 1217 3\n"
     ]
    }
   ],
   "source": [
    "import cv2\n",
    "\n",
    "img = cv2.imread('0001.jpg')\n",
    "h, w, c = img.shape\n",
    "\n",
    "print(h, w, c)"
   ]
  },
  {
   "cell_type": "code",
   "execution_count": null,
   "id": "03f66a43",
   "metadata": {},
   "outputs": [],
   "source": [
    "import numpy as np\n",
    "\n",
    "for y in range(100, 200) :\n",
    "    for x in range(200, w-200) :\n",
    "        if np.all(img[y, x] == [255, 128, 209]) :\n",
    "            img[y, x] = [256, 256, 256]\n",
    "            \n",
    "cv2.imshow('img', img)\n",
    "cv2.waitKey()\n",
    "cv2.destroyAllWindows()"
   ]
  },
  {
   "cell_type": "code",
   "execution_count": null,
   "id": "b4ac17c5",
   "metadata": {},
   "outputs": [],
   "source": [
    "img = cv2.imread(\"0001.jpg\")  #load image\n",
    "# img_rgb = cv2.cvtColor(img, cv2.COLOR_BGR2RGB)  #convert to grayscale\n",
    "\n",
    "#using numpy vectors\n",
    "# def gammaCorrect4(im, gamma):\n",
    "#     # create a blank output Image\n",
    "#     outImg = np.zeros(im.shape, im.dtype)\n",
    "#     rows, cols = im.shape\n",
    "\n",
    "#     # create a lookup table\n",
    "#     LUT = []\n",
    "\n",
    "#     for i in range(256):\n",
    "#         LUT.append(((i / 255.0) ** (1 / gamma)) * 255)\n",
    "\n",
    "#     LUT = np.array(LUT,dtype=np.uint8)\n",
    "#     outImg = LUT[im]\n",
    "\n",
    "#     return outImg\n",
    "\n",
    "img.itemset(50, 50, 0, 255)\n",
    "img.itemset(50, 50, 1, 255)\n",
    "img.itemset(50, 50, 2, 255)\n",
    "\n",
    "cv2.imshow('img', img)\n",
    "cv2.waitKey()\n",
    "cv2.destroyAllWindows()"
   ]
  },
  {
   "cell_type": "code",
   "execution_count": 7,
   "id": "59bbc9b7",
   "metadata": {},
   "outputs": [
    {
     "name": "stdout",
     "output_type": "stream",
     "text": [
      "58 105 3\n"
     ]
    }
   ],
   "source": [
    "import cv2\n",
    "\n",
    "img = cv2.imread('0002.png')\n",
    "h, w, c = img.shape\n",
    "\n",
    "print(h, w, c)"
   ]
  },
  {
   "cell_type": "code",
   "execution_count": 14,
   "id": "120fa6a1",
   "metadata": {},
   "outputs": [
    {
     "data": {
      "text/plain": [
       "209"
      ]
     },
     "execution_count": 14,
     "metadata": {},
     "output_type": "execute_result"
    }
   ],
   "source": [
    "#[255, 128, 209]\n",
    "img.item(30, 50, 0)"
   ]
  },
  {
   "cell_type": "code",
   "execution_count": 25,
   "id": "1d9dea62",
   "metadata": {},
   "outputs": [],
   "source": [
    "for y in range(h) :\n",
    "    for x in range(w) :\n",
    "        if ((img.item(y, x, 1) != 255) and (img.item(y, x, 2) == 255)) :\n",
    "            img[y, x] = [0, 0, 0]"
   ]
  },
  {
   "cell_type": "code",
   "execution_count": 26,
   "id": "0abc4a22",
   "metadata": {},
   "outputs": [
    {
     "data": {
      "text/plain": [
       "True"
      ]
     },
     "execution_count": 26,
     "metadata": {},
     "output_type": "execute_result"
    }
   ],
   "source": [
    "cv2.imwrite('./0001_1.jpg',img)"
   ]
  },
  {
   "cell_type": "code",
   "execution_count": null,
   "id": "533dba31",
   "metadata": {},
   "outputs": [],
   "source": []
  }
 ],
 "metadata": {
  "kernelspec": {
   "display_name": "Python 3",
   "language": "python",
   "name": "python3"
  },
  "language_info": {
   "codemirror_mode": {
    "name": "ipython",
    "version": 3
   },
   "file_extension": ".py",
   "mimetype": "text/x-python",
   "name": "python",
   "nbconvert_exporter": "python",
   "pygments_lexer": "ipython3",
   "version": "3.8.8"
  }
 },
 "nbformat": 4,
 "nbformat_minor": 5
}
